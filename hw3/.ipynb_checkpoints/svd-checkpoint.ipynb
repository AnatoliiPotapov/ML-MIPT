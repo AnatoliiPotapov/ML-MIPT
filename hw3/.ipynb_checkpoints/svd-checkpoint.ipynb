{
 "cells": [
  {
   "cell_type": "code",
   "execution_count": 1,
   "metadata": {
    "ExecuteTime": {
     "end_time": "2017-03-18T20:19:47.240327+03:00",
     "start_time": "2017-03-18T20:19:47.234228"
    },
    "collapsed": false,
    "deletable": true,
    "editable": true
   },
   "outputs": [
    {
     "name": "stdout",
     "output_type": "stream",
     "text": [
      "/home/nsuser3\n"
     ]
    }
   ],
   "source": [
    "%cd /home/nsuser3/"
   ]
  },
  {
   "cell_type": "code",
   "execution_count": 2,
   "metadata": {
    "ExecuteTime": {
     "end_time": "2017-03-18T20:19:47.950685+03:00",
     "start_time": "2017-03-18T20:19:47.242960"
    },
    "collapsed": true,
    "deletable": true,
    "editable": true
   },
   "outputs": [],
   "source": [
    "import logging\n",
    "from time import time\n",
    "import os\n",
    "\n",
    "from numpy.random import RandomState\n",
    "import matplotlib.pyplot as plt\n",
    "\n",
    "import numpy as np\n",
    "from sklearn.cluster import MiniBatchKMeans\n",
    "from sklearn import decomposition\n",
    "%matplotlib inline\n",
    "\n",
    "# Display progress logs on stdout\n",
    "logging.basicConfig(level=logging.INFO,\n",
    "                    format='%(asctime)s %(levelname)s %(message)s')\n",
    "n_row, n_col = 2, 3\n",
    "n_components = n_row * n_col\n",
    "image_shape = (64, 64)\n",
    "rng = RandomState(0)\n",
    "\n",
    "from glob import glob\n",
    "import numpy as np\n",
    "from skimage import io"
   ]
  },
  {
   "cell_type": "code",
   "execution_count": 91,
   "metadata": {
    "ExecuteTime": {
     "end_time": "2017-03-18T21:04:27.097031+03:00",
     "start_time": "2017-03-18T21:04:27.037194"
    },
    "collapsed": false,
    "deletable": true,
    "editable": true
   },
   "outputs": [],
   "source": [
    "labels = []\n",
    "all_fns = []\n",
    "for d in os.listdir('Task1/resized200x200/'):\n",
    "    if d == 'Moon': continue # because b/w image\n",
    "    fns = glob('Task1/resized200x200/{}/*.jpg'.format(d))\n",
    "    labels.extend([d] * len(fns))\n",
    "    all_fns.extend(fns)\n",
    "labels[91]"
   ]
  },
  {
   "cell_type": "code",
   "execution_count": null,
   "metadata": {
    "ExecuteTime": {
     "start_time": "2017-03-18T21:04:31.903Z"
    },
    "collapsed": false,
    "deletable": true,
    "editable": true
   },
   "outputs": [],
   "source": [
    "# fns = glob('Task1/resized200x200/Juno/11*.jpg')\n",
    "# print(fns)\n",
    "\n",
    "# initializing with zeros.\n",
    "res = np.zeros(shape=(1,3))\n",
    "imlist = (io.imread_collection(all_fns))\n",
    "for i in range(len(imlist)):\n",
    "# m=transform.resize(imlist[i],(256,256,3))\n",
    "    m = imlist[i]\n",
    "    # Reshape the matrix to a list of rgb values.\n",
    "    arr = m.reshape((200*200),3)\n",
    "    # concatenate the vectors for every image with the existing list.\n",
    "    res = np.concatenate((res,arr),axis=0)\n",
    "    \n",
    "# delete initial zeros' row\n",
    "res = np.delete(res, (0), axis=0)\n",
    "# print list of vectors - 3 columns (rgb)\n",
    "# print(res)\n",
    "m = res.mean(axis = 0)\n",
    "print(m)\n",
    "\n",
    "res = res - m\n",
    "\n",
    "# R = np.cov(res, rowvar=False)\n",
    "data = res.reshape(len(imlist), -1)"
   ]
  },
  {
   "cell_type": "code",
   "execution_count": 59,
   "metadata": {
    "ExecuteTime": {
     "end_time": "2017-03-18T20:54:58.780937+03:00",
     "start_time": "2017-03-18T20:54:58.770432"
    },
    "collapsed": false,
    "deletable": true,
    "editable": true
   },
   "outputs": [],
   "source": [
    "image_shape=(200, 200, 3)\n",
    "def plot_gallery(title, images, n_col=n_col, n_row=n_row):\n",
    "\n",
    "    plt.figure(figsize=(2. * n_col, 2.26 * n_row))\n",
    "    plt.suptitle(title, size=16)\n",
    "    for i, comp in enumerate(images):\n",
    "        plt.subplot(n_row, n_col, i + 1)\n",
    "        vmax = max(comp.max(), -comp.min())\n",
    "#         plt.imshow(comp.reshape(image_shape), cmap=plt.cm.gray,\n",
    "#                    interpolation='nearest',\n",
    "#                    vmin=-vmax, vmax=vmax)\n",
    "        plt.imshow(comp.reshape(image_shape))\n",
    "        plt.xticks(())\n",
    "        plt.yticks(())\n",
    "    plt.subplots_adjust(0.01, 0.05, 0.99, 0.93, 0.04, 0.)"
   ]
  },
  {
   "cell_type": "code",
   "execution_count": null,
   "metadata": {
    "ExecuteTime": {
     "end_time": "2017-03-18T20:55:02.023606+03:00",
     "start_time": "2017-03-18T20:55:01.029406"
    },
    "collapsed": false,
    "deletable": true,
    "editable": true
   },
   "outputs": [],
   "source": [
    "# plot_gallery('check', data, 5, 2)"
   ]
  },
  {
   "cell_type": "code",
   "execution_count": 1,
   "metadata": {
    "ExecuteTime": {
     "end_time": "2017-03-18T21:04:02.500288+03:00",
     "start_time": "2017-03-18T21:04:00.987812"
    },
    "collapsed": false,
    "deletable": true,
    "editable": true
   },
   "outputs": [
    {
     "ename": "NameError",
     "evalue": "name 'plt' is not defined",
     "output_type": "error",
     "traceback": [
      "\u001b[0;31m---------------------------------------------------------------------------\u001b[0m",
      "\u001b[0;31mNameError\u001b[0m                                 Traceback (most recent call last)",
      "\u001b[0;32m<ipython-input-1-2f641991635f>\u001b[0m in \u001b[0;36m<module>\u001b[0;34m()\u001b[0m\n\u001b[1;32m      3\u001b[0m \u001b[0;34m\u001b[0m\u001b[0m\n\u001b[1;32m      4\u001b[0m \u001b[0;32mimport\u001b[0m \u001b[0mmatplotlib\u001b[0m\u001b[0;34m.\u001b[0m\u001b[0mcm\u001b[0m \u001b[0;32mas\u001b[0m \u001b[0mcm\u001b[0m\u001b[0;34m\u001b[0m\u001b[0m\n\u001b[0;32m----> 5\u001b[0;31m \u001b[0mplt\u001b[0m\u001b[0;34m.\u001b[0m\u001b[0mrcParams\u001b[0m\u001b[0;34m[\u001b[0m\u001b[0;34m'figure.figsize'\u001b[0m\u001b[0;34m]\u001b[0m \u001b[0;34m=\u001b[0m \u001b[0;34m(\u001b[0m\u001b[0;36m20\u001b[0m\u001b[0;34m,\u001b[0m \u001b[0;36m10\u001b[0m\u001b[0;34m)\u001b[0m\u001b[0;34m\u001b[0m\u001b[0m\n\u001b[0m\u001b[1;32m      6\u001b[0m \u001b[0mpca\u001b[0m \u001b[0;34m=\u001b[0m \u001b[0mPCA\u001b[0m\u001b[0;34m(\u001b[0m\u001b[0mn_components\u001b[0m\u001b[0;34m=\u001b[0m\u001b[0;36m2\u001b[0m\u001b[0;34m)\u001b[0m\u001b[0;34m\u001b[0m\u001b[0m\n\u001b[1;32m      7\u001b[0m \u001b[0mX\u001b[0m \u001b[0;34m=\u001b[0m \u001b[0mpca\u001b[0m\u001b[0;34m.\u001b[0m\u001b[0mfit_transform\u001b[0m\u001b[0;34m(\u001b[0m\u001b[0mdata\u001b[0m\u001b[0;34m)\u001b[0m\u001b[0;34m\u001b[0m\u001b[0m\n",
      "\u001b[0;31mNameError\u001b[0m: name 'plt' is not defined"
     ]
    }
   ],
   "source": [
    "import pandas as pd\n",
    "from sklearn.decomposition import PCA\n",
    "\n",
    "import matplotlib.cm as cm\n",
    "plt.rcParams['figure.figsize'] = (20, 10)\n",
    "pca = PCA(n_components=2)\n",
    "X = pca.fit_transform(data)\n",
    "# y = np.ones((10,))\n",
    "n_labels = 11\n",
    "colors = cm.rainbow(np.linspace(0, 1, n_labels))\n",
    "df = pd.DataFrame({\"x\": X[:, 0], \"y\": X[:, 1], \"label\":labels})\n",
    "# colors = [\"red\", \"yellow\"]\n",
    "for label, color in zip(df['label'].unique(), colors):\n",
    "    mask = df['label']==label\n",
    "    plt.scatter(df[mask]['x'], df[mask]['y'], c=color, label=label)\n",
    "plt.legend()\n",
    "plt.savefig('svd.png')\n",
    "plt.show()\n"
   ]
  },
  {
   "cell_type": "code",
   "execution_count": 88,
   "metadata": {
    "ExecuteTime": {
     "end_time": "2017-03-18T21:02:36.846153+03:00",
     "start_time": "2017-03-18T21:02:36.685182"
    },
    "collapsed": false,
    "deletable": true,
    "editable": true
   },
   "outputs": [
    {
     "data": {
      "text/plain": [
       "<matplotlib.figure.Figure at 0x7fc85934b5f8>"
      ]
     },
     "metadata": {},
     "output_type": "display_data"
    }
   ],
   "source": []
  }
 ],
 "metadata": {
  "kernelspec": {
   "display_name": "mipt-trends2.7",
   "language": "python",
   "name": "mipt-trends2.7"
  },
  "language_info": {
   "codemirror_mode": {
    "name": "ipython",
    "version": 2
   },
   "file_extension": ".py",
   "mimetype": "text/x-python",
   "name": "python",
   "nbconvert_exporter": "python",
   "pygments_lexer": "ipython2",
   "version": "2.7.12"
  }
 },
 "nbformat": 4,
 "nbformat_minor": 2
}

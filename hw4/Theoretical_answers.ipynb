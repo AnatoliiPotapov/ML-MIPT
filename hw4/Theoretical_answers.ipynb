{
 "cells": [
  {
   "cell_type": "markdown",
   "metadata": {},
   "source": [
    "# Теоретические задачи"
   ]
  },
  {
   "cell_type": "markdown",
   "metadata": {},
   "source": [
    "# 1. Знакомство с линейным классификатором"
   ]
  },
  {
   "cell_type": "markdown",
   "metadata": {},
   "source": [
    "    1. Как выглядит бинарный линейный классификатор? (Формула для отображения из множества объектов в множество классов.)"
   ]
  },
  {
   "cell_type": "markdown",
   "metadata": {},
   "source": [
    "$$\n",
    "y = \\begin{cases}\n",
    "1,  &  if  (w, x) > 0 \\\\\n",
    "0,  &  if  (w, x) < 0 \n",
    "\\end{cases}\n",
    "$$\n",
    "\n",
    "где:\n",
    "\n",
    "    w - вектор весов,\n",
    "    \n",
    "    x - вектор признаков объекта"
   ]
  },
  {
   "cell_type": "markdown",
   "metadata": {},
   "source": [
    "    2. Что такое отступ алгоритма на объекте? Какие выводы можно сделать из знака отступа?"
   ]
  },
  {
   "cell_type": "markdown",
   "metadata": {},
   "source": [
    "$  $ \n",
    "\n",
    "Если отступ положительный, значит объект классифицирован правильно и чем больше отступ - тем более уверенно.\n",
    "Если отступ отрицательный, значит классификатор ошибается на объекте."
   ]
  },
  {
   "cell_type": "markdown",
   "metadata": {},
   "source": [
    "    3. Как классификаторы вида a(x) = sign(< w, x > −w 0 ) сводят к классификаторам вида a(x) = sign(< w, x >)?"
   ]
  },
  {
   "cell_type": "markdown",
   "metadata": {},
   "source": [
    "В начало вектора весов нулевым элементом добавляется байес, в начало вектора фичей добавляется элемент, всегда равный единице.\n"
   ]
  },
  {
   "cell_type": "markdown",
   "metadata": {},
   "source": [
    "    4. Как выглядит запись функционала эмпирического риска через отступы? Какое значение он должен принимать для «наилучшего» алгоритма классификации?"
   ]
  },
  {
   "cell_type": "code",
   "execution_count": null,
   "metadata": {
    "collapsed": true
   },
   "outputs": [],
   "source": []
  },
  {
   "cell_type": "markdown",
   "metadata": {},
   "source": [
    "    5. Если в функционале эмпирического риска (риск с пороговой функцией потерь) всюду написаны строгие неравенства (M i < 0) можете ли вы сразу придумать параметр w для алгоритма классификации a(x) = sign(< w, x >), минимизирующий такой функционал?"
   ]
  },
  {
   "cell_type": "code",
   "execution_count": null,
   "metadata": {
    "collapsed": true
   },
   "outputs": [],
   "source": []
  },
  {
   "cell_type": "markdown",
   "metadata": {},
   "source": [
    "    6. Запишите функционал аппроксимированного эмпирического риска, если выбрана функция потерь L(M )."
   ]
  },
  {
   "cell_type": "code",
   "execution_count": null,
   "metadata": {
    "collapsed": true
   },
   "outputs": [],
   "source": []
  },
  {
   "cell_type": "markdown",
   "metadata": {},
   "source": [
    "    7. Что такое функция потерь, зачем она нужна? Как обычно выглядит ее график?"
   ]
  },
  {
   "cell_type": "code",
   "execution_count": null,
   "metadata": {
    "collapsed": true
   },
   "outputs": [],
   "source": [
    "    "
   ]
  },
  {
   "cell_type": "markdown",
   "metadata": {},
   "source": [
    "    8. Приведите пример негладкой функции потерь."
   ]
  },
  {
   "cell_type": "code",
   "execution_count": null,
   "metadata": {
    "collapsed": true
   },
   "outputs": [],
   "source": []
  },
  {
   "cell_type": "markdown",
   "metadata": {},
   "source": [
    "    9. Что такое регуляризация? Какие регуляризаторы вы знаете?"
   ]
  },
  {
   "cell_type": "code",
   "execution_count": null,
   "metadata": {
    "collapsed": true
   },
   "outputs": [],
   "source": []
  },
  {
   "cell_type": "markdown",
   "metadata": {},
   "source": [
    "    10. Как связаны переобучение и обобщающая способность алгоритма? Как влияет регуляризация на обобщающую способность?"
   ]
  },
  {
   "cell_type": "code",
   "execution_count": null,
   "metadata": {
    "collapsed": true
   },
   "outputs": [],
   "source": []
  },
  {
   "cell_type": "markdown",
   "metadata": {},
   "source": [
    "    11. Как связаны острые минимумы функционала аппроксимированного эмпирического риска с проблемой переобучения?"
   ]
  },
  {
   "cell_type": "code",
   "execution_count": null,
   "metadata": {
    "collapsed": true
   },
   "outputs": [],
   "source": []
  },
  {
   "cell_type": "markdown",
   "metadata": {},
   "source": [
    "    12. Что делает регуляризация с аппроксимированным риском как функцией параметров алгоритма?"
   ]
  },
  {
   "cell_type": "code",
   "execution_count": null,
   "metadata": {
    "collapsed": true
   },
   "outputs": [],
   "source": []
  },
  {
   "cell_type": "markdown",
   "metadata": {},
   "source": [
    "    13. Для какого алгоритма классификации функционал аппроксимированного риска будет принимать большее значение на обучающей выборке: для построенного с регуляризацией или без нее? Почему?"
   ]
  },
  {
   "cell_type": "code",
   "execution_count": null,
   "metadata": {
    "collapsed": true
   },
   "outputs": [],
   "source": []
  },
  {
   "cell_type": "markdown",
   "metadata": {},
   "source": [
    "    14. Для какого алгоритма классификации функционал риска будет принимать большее значение на тестовой выборке: для построенного с оправдывающей себя регуляризацией или вообще без нее? Почему?"
   ]
  },
  {
   "cell_type": "code",
   "execution_count": null,
   "metadata": {
    "collapsed": true
   },
   "outputs": [],
   "source": []
  },
  {
   "cell_type": "markdown",
   "metadata": {},
   "source": [
    "    15. Что представляют собой метрики качества Accuracy, Precision и Recall?"
   ]
  },
  {
   "cell_type": "code",
   "execution_count": null,
   "metadata": {
    "collapsed": true
   },
   "outputs": [],
   "source": []
  },
  {
   "cell_type": "markdown",
   "metadata": {},
   "source": [
    "    16. Что такое метрика качества AUC и ROC-кривая?"
   ]
  },
  {
   "cell_type": "code",
   "execution_count": null,
   "metadata": {
    "collapsed": true
   },
   "outputs": [],
   "source": []
  },
  {
   "cell_type": "markdown",
   "metadata": {},
   "source": [
    "    17. Как построить ROC-кривую (нужен алгоритм), если например, у вас есть правильные ответы к домашнему заданию про фамилии и ваши прогнозы?"
   ]
  },
  {
   "cell_type": "code",
   "execution_count": null,
   "metadata": {
    "collapsed": true
   },
   "outputs": [],
   "source": []
  },
  {
   "cell_type": "markdown",
   "metadata": {},
   "source": [
    "# 2. Вероятностный смысл регуляризаторов"
   ]
  },
  {
   "cell_type": "markdown",
   "metadata": {},
   "source": [
    "Покажите, что регуляризатор в задаче линейной классификации имеет вероятностный смысл\n",
    "априорного распределения параметров моделей. Какие распределения задают l1-регуляризатор\n",
    "и l2-регуляризатор?"
   ]
  },
  {
   "cell_type": "code",
   "execution_count": null,
   "metadata": {
    "collapsed": true
   },
   "outputs": [],
   "source": []
  },
  {
   "cell_type": "markdown",
   "metadata": {},
   "source": [
    "# 3. SVM и максимизация разделяющей полосы"
   ]
  },
  {
   "cell_type": "markdown",
   "metadata": {},
   "source": [
    "Покажите, как получается условная оптимизационная задача, решаемая в SVM из соображе-\n",
    "ний максимизации разделяющей полосы между классами. Можно отталкиваться от линейно\n",
    "разделимого случая, но итоговое выражение должно быть для общего.\n",
    "Как эта задача сводится к безусловной задаче оптимизации?"
   ]
  },
  {
   "cell_type": "code",
   "execution_count": null,
   "metadata": {
    "collapsed": true
   },
   "outputs": [],
   "source": []
  },
  {
   "cell_type": "markdown",
   "metadata": {},
   "source": [
    "# 4. Kernel trick"
   ]
  },
  {
   "cell_type": "markdown",
   "metadata": {},
   "source": [
    "Придумайте ядро, которое позволит линейному классификатору с помощью Kernel Trick по-\n",
    "строить в исходном пространстве признаков разделяющую поверхность x 21 + 2x 22 = 3. Какой\n",
    "будет размерность спрямляющего пространства?"
   ]
  },
  {
   "cell_type": "code",
   "execution_count": null,
   "metadata": {
    "collapsed": true
   },
   "outputs": [],
   "source": []
  },
  {
   "cell_type": "markdown",
   "metadata": {},
   "source": [
    "# 5. L1 -регуляризация"
   ]
  },
  {
   "cell_type": "markdown",
   "metadata": {},
   "source": [
    "Покажите с помощью теоремы Куна-Таккера, что ограничение L1 -нормы вектора весов чис-\n",
    "лом и добавление штрафа с его L1 -нормой приводят к построению одного и того же алгоритма.\n",
    "Можно считать, что регуляризатор добавляется по существу, т.е. меняет итоговый ответ по\n",
    "сравнению с оптимизационной задачей без регуляризатора."
   ]
  },
  {
   "cell_type": "code",
   "execution_count": null,
   "metadata": {
    "collapsed": true
   },
   "outputs": [],
   "source": []
  },
  {
   "cell_type": "markdown",
   "metadata": {},
   "source": [
    "# 6. Повторение: метрики качества"
   ]
  },
  {
   "cell_type": "markdown",
   "metadata": {},
   "source": [
    "    1. Что представляют собой метрики качества Accuracy, Precision и Recall?\n",
    "    \n",
    "    2. Что такое метрика качества AUC и ROC-кривая?\n",
    "    \n",
    "    3. Как построить ROC-кривую (нужен алгоритм), если например, у вас есть правильные\n",
    "    ответы к домашнему заданию про фамилии и ваши прогнозы?"
   ]
  },
  {
   "cell_type": "code",
   "execution_count": null,
   "metadata": {
    "collapsed": true
   },
   "outputs": [],
   "source": []
  }
 ],
 "metadata": {
  "kernelspec": {
   "display_name": "mipt-trends2.7",
   "language": "python",
   "name": "mipt-trends2.7"
  },
  "language_info": {
   "codemirror_mode": {
    "name": "ipython",
    "version": 2
   },
   "file_extension": ".py",
   "mimetype": "text/x-python",
   "name": "python",
   "nbconvert_exporter": "python",
   "pygments_lexer": "ipython2",
   "version": "2.7.12"
  }
 },
 "nbformat": 4,
 "nbformat_minor": 2
}

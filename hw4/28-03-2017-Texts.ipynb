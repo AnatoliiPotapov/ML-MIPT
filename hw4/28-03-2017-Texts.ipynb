{
 "cells": [
  {
   "cell_type": "code",
   "execution_count": 2,
   "metadata": {
    "collapsed": true
   },
   "outputs": [],
   "source": [
    "import pandas as pd\n",
    "import numpy as np\n",
    "import seaborn as sns\n",
    "import matplotlib.pyplot as plt\n",
    "%matplotlib inline"
   ]
  },
  {
   "cell_type": "code",
   "execution_count": 19,
   "metadata": {
    "collapsed": false
   },
   "outputs": [
    {
     "name": "stdout",
     "output_type": "stream",
     "text": [
      "\u001b[33mThe directory '/home/eltyshev/.cache/pip/http' or its parent directory is not owned by the current user and the cache has been disabled. Please check the permissions and owner of that directory. If executing pip with sudo, you may want sudo's -H flag.\u001b[0m\n",
      "\u001b[33mThe directory '/home/eltyshev/.cache/pip' or its parent directory is not owned by the current user and caching wheels has been disabled. check the permissions and owner of that directory. If executing pip with sudo, you may want sudo's -H flag.\u001b[0m\n",
      "Collecting beautifulsoup4\n",
      "/usr/local/lib/python2.7/dist-packages/pip/_vendor/requests/packages/urllib3/util/ssl_.py:318: SNIMissingWarning: An HTTPS request has been made, but the SNI (Subject Name Indication) extension to TLS is not available on this platform. This may cause the server to present an incorrect TLS certificate, which can cause validation failures. You can upgrade to a newer version of Python to solve this. For more information, see https://urllib3.readthedocs.io/en/latest/security.html#snimissingwarning.\n",
      "  SNIMissingWarning\n",
      "/usr/local/lib/python2.7/dist-packages/pip/_vendor/requests/packages/urllib3/util/ssl_.py:122: InsecurePlatformWarning: A true SSLContext object is not available. This prevents urllib3 from configuring SSL appropriately and may cause certain SSL connections to fail. You can upgrade to a newer version of Python to solve this. For more information, see https://urllib3.readthedocs.io/en/latest/security.html#insecureplatformwarning.\n",
      "  InsecurePlatformWarning\n",
      "  Downloading https://pypi.yandex-team.ru/repo/default/download/beautifulsoup4/121510/beautifulsoup4-4.5.3-py2-none-any.whl (85kB)\n",
      "\u001b[K    100% |████████████████████████████████| 92kB 1.9MB/s \n",
      "\u001b[?25hInstalling collected packages: beautifulsoup4\n",
      "Successfully installed beautifulsoup4-4.5.3\n"
     ]
    }
   ],
   "source": [
    "!sudo pip install beautifulsoup4"
   ]
  },
  {
   "cell_type": "code",
   "execution_count": 28,
   "metadata": {
    "collapsed": false
   },
   "outputs": [
    {
     "name": "stdout",
     "output_type": "stream",
     "text": [
      "tags found: [<p>This is a paragraph.</p>, <p>This is a paragraph.</p>, <p>This is a paragraph.</p>]\n",
      "text extracted: 'This is a paragraph. This is a paragraph. This is a paragraph.'\n"
     ]
    }
   ],
   "source": [
    "from bs4 import BeautifulSoup\n",
    "\n",
    "html = \"\"\"\n",
    "<!DOCTYPE html>\n",
    "<html>\n",
    "<body>\n",
    "\n",
    "<p>This is a paragraph.</p>\n",
    "<p>This is a paragraph.</p>\n",
    "<p>This is a paragraph.</p>\n",
    "\n",
    "</body>\n",
    "</html>\n",
    "\"\"\"\n",
    "\n",
    "bs = BeautifulSoup(html)\n",
    "all_p_tags = bs.find_all(\"p\")\n",
    "print \"tags found:\", all_p_tags\n",
    "extracted_text = \" \".join(map(lambda x: x.text, all_p_tags))\n",
    "print \"text extracted: '{}'\".format(extracted_text)"
   ]
  },
  {
   "cell_type": "code",
   "execution_count": 50,
   "metadata": {
    "collapsed": false
   },
   "outputs": [
    {
     "name": "stdout",
     "output_type": "stream",
     "text": [
      "extracted text: 'This is a paragraph. This is a paragraph. This is a paragraph.'\n",
      "cleaned text: 'This is a paragraph This is a paragraph This is a paragraph'\n"
     ]
    }
   ],
   "source": [
    "import re\n",
    "cleaned_text = re.sub(\"[^a-zA-Z0-9 ]\", \"\", extracted_text)\n",
    "print \"extracted text: '{}'\".format(extracted_text)\n",
    "print \"cleaned text: '{}'\".format(cleaned_text)"
   ]
  },
  {
   "cell_type": "code",
   "execution_count": 44,
   "metadata": {
    "collapsed": false
   },
   "outputs": [
    {
     "name": "stdout",
     "output_type": "stream",
     "text": [
      "\u001b[33mThe directory '/home/eltyshev/.cache/pip/http' or its parent directory is not owned by the current user and the cache has been disabled. Please check the permissions and owner of that directory. If executing pip with sudo, you may want sudo's -H flag.\u001b[0m\n",
      "\u001b[33mThe directory '/home/eltyshev/.cache/pip' or its parent directory is not owned by the current user and caching wheels has been disabled. check the permissions and owner of that directory. If executing pip with sudo, you may want sudo's -H flag.\u001b[0m\n",
      "Requirement already satisfied: nltk in /usr/local/lib/python2.7/dist-packages\n",
      "Requirement already satisfied: six in /usr/local/lib/python2.7/dist-packages (from nltk)\n"
     ]
    }
   ],
   "source": [
    "!sudo pip install nltk"
   ]
  },
  {
   "cell_type": "code",
   "execution_count": 49,
   "metadata": {
    "collapsed": false
   },
   "outputs": [
    {
     "name": "stdout",
     "output_type": "stream",
     "text": [
      "caresses -> caress\n",
      "flies -> fli\n",
      "dies -> die\n",
      "mules -> mule\n",
      "denied -> deni\n",
      "died -> die\n",
      "agreed -> agre\n",
      "owned -> own\n",
      "humbled -> humbl\n",
      "sized -> size\n",
      "meeting -> meet\n",
      "stating -> state\n",
      "siezing -> siez\n",
      "itemization -> item\n",
      "sensational -> sensat\n",
      "traditional -> tradit\n",
      "reference -> refer\n",
      "colonizer -> colon\n",
      "plotted -> plot\n"
     ]
    }
   ],
   "source": [
    "from nltk.stem import PorterStemmer\n",
    "\n",
    "words = ['caresses', 'flies', 'dies', 'mules', 'denied', 'died', 'agreed', 'owned', \n",
    "         'humbled', 'sized', 'meeting', 'stating', 'siezing', 'itemization', 'sensational', \n",
    "         'traditional', 'reference', 'colonizer', 'plotted']\n",
    "\n",
    "ps = PorterStemmer()\n",
    "for word in words: \n",
    "    print word, \"->\", ps.stem(word)"
   ]
  },
  {
   "cell_type": "code",
   "execution_count": 3,
   "metadata": {
    "collapsed": true
   },
   "outputs": [],
   "source": [
    "df = pd.read_csv(\"cleaned_dataset1.tsv\", sep=\"\\t\")"
   ]
  },
  {
   "cell_type": "code",
   "execution_count": 7,
   "metadata": {
    "collapsed": false
   },
   "outputs": [
    {
     "data": {
      "text/html": [
       "<div>\n",
       "<table border=\"1\" class=\"dataframe\">\n",
       "  <thead>\n",
       "    <tr style=\"text-align: right;\">\n",
       "      <th></th>\n",
       "      <th>positive</th>\n",
       "      <th>text</th>\n",
       "    </tr>\n",
       "  </thead>\n",
       "  <tbody>\n",
       "    <tr>\n",
       "      <th>0</th>\n",
       "      <td>1</td>\n",
       "      <td>this was the first clive cussler ive ever read...</td>\n",
       "    </tr>\n",
       "    <tr>\n",
       "      <th>1</th>\n",
       "      <td>1</td>\n",
       "      <td>i liked the da vinci code a lot</td>\n",
       "    </tr>\n",
       "    <tr>\n",
       "      <th>2</th>\n",
       "      <td>1</td>\n",
       "      <td>i liked the da vinci code a lot</td>\n",
       "    </tr>\n",
       "    <tr>\n",
       "      <th>3</th>\n",
       "      <td>1</td>\n",
       "      <td>i liked the da vinci code but it ultimatly did...</td>\n",
       "    </tr>\n",
       "    <tr>\n",
       "      <th>4</th>\n",
       "      <td>1</td>\n",
       "      <td>thats not even an exaggeration and at midnight...</td>\n",
       "    </tr>\n",
       "  </tbody>\n",
       "</table>\n",
       "</div>"
      ],
      "text/plain": [
       "   positive                                               text\n",
       "0         1  this was the first clive cussler ive ever read...\n",
       "1         1                    i liked the da vinci code a lot\n",
       "2         1                    i liked the da vinci code a lot\n",
       "3         1  i liked the da vinci code but it ultimatly did...\n",
       "4         1  thats not even an exaggeration and at midnight..."
      ]
     },
     "execution_count": 7,
     "metadata": {},
     "output_type": "execute_result"
    }
   ],
   "source": [
    "df.head()"
   ]
  },
  {
   "cell_type": "code",
   "execution_count": 11,
   "metadata": {
    "collapsed": false
   },
   "outputs": [
    {
     "data": {
      "text/plain": [
       "<6917x2298 sparse matrix of type '<type 'numpy.int64'>'\n",
       "\twith 65230 stored elements in Compressed Sparse Row format>"
      ]
     },
     "execution_count": 11,
     "metadata": {},
     "output_type": "execute_result"
    }
   ],
   "source": [
    "from sklearn.feature_extraction.text import CountVectorizer\n",
    "\n",
    "\"\"\"\n",
    "Convert a collection of text documents to a matrix of token counts\n",
    "\n",
    "This implementation produces a sparse representation of the counts using\n",
    "scipy.sparse.coo_matrix.\n",
    "\n",
    "Parameters\n",
    "----------\n",
    "input : string {'filename', 'file', 'content'}\n",
    "    If 'filename', the sequence passed as an argument to fit is\n",
    "    expected to be a list of filenames that need reading to fetch\n",
    "    the raw content to analyze.\n",
    "\n",
    "    If 'file', the sequence items must have a 'read' method (file-like\n",
    "    object) that is called to fetch the bytes in memory.\n",
    "\n",
    "    Otherwise the input is expected to be the sequence strings or\n",
    "    bytes items are expected to be analyzed directly.\n",
    "\n",
    "encoding : string, 'utf-8' by default.\n",
    "    If bytes or files are given to analyze, this encoding is used to\n",
    "    decode.\n",
    "\n",
    "analyzer : string, {'word', 'char', 'char_wb'} or callable\n",
    "    Whether the feature should be made of word or character n-grams.\n",
    "    Option 'char_wb' creates character n-grams only from text inside\n",
    "    word boundaries.\n",
    "\n",
    "    If a callable is passed it is used to extract the sequence of features\n",
    "    out of the raw, unprocessed input.\n",
    "\n",
    "preprocessor : callable or None (default)\n",
    "    Override the preprocessing (string transformation) stage while\n",
    "    preserving the tokenizing and n-grams generation steps.\n",
    "\n",
    "tokenizer : callable or None (default)\n",
    "    Override the string tokenization step while preserving the\n",
    "    preprocessing and n-grams generation steps.\n",
    "    Only applies if ``analyzer == 'word'``.\n",
    "\n",
    "ngram_range : tuple (min_n, max_n)\n",
    "    The lower and upper boundary of the range of n-values for different\n",
    "    n-grams to be extracted. All values of n such that min_n <= n <= max_n\n",
    "    will be used.\n",
    "\n",
    "stop_words : string {'english'}, list, or None (default)\n",
    "    If 'english', a built-in stop word list for English is used.\n",
    "\n",
    "    If a list, that list is assumed to contain stop words, all of which\n",
    "    will be removed from the resulting tokens.\n",
    "    Only applies if ``analyzer == 'word'``.\n",
    "\n",
    "    If None, no stop words will be used. max_df can be set to a value\n",
    "    in the range [0.7, 1.0) to automatically detect and filter stop\n",
    "    words based on intra corpus document frequency of terms.\n",
    "\n",
    "max_features : int or None, default=None\n",
    "    If not None, build a vocabulary that only consider the top\n",
    "    max_features ordered by term frequency across the corpus.\n",
    "\n",
    "    This parameter is ignored if vocabulary is not None.\n",
    "\n",
    "vocabulary : Mapping or iterable, optional\n",
    "    Either a Mapping (e.g., a dict) where keys are terms and values are\n",
    "    indices in the feature matrix, or an iterable over terms. If not\n",
    "    given, a vocabulary is determined from the input documents. Indices\n",
    "    in the mapping should not be repeated and should not have any gap\n",
    "    between 0 and the largest index.\n",
    "\n",
    "binary : boolean, default=False\n",
    "    If True, all non zero counts are set to 1. This is useful for discrete\n",
    "    probabilistic models that model binary events rather than integer\n",
    "    counts.\n",
    "\"\"\"\n",
    "\n",
    "cv = CountVectorizer(input=\"content\", analyzer=\"word\")\n",
    "BoW_matrix = cv.fit_transform(df.text)\n",
    "BoW_matrix"
   ]
  },
  {
   "cell_type": "code",
   "execution_count": 13,
   "metadata": {
    "collapsed": false
   },
   "outputs": [
    {
     "data": {
      "text/plain": [
       "<6917x2298 sparse matrix of type '<type 'numpy.float64'>'\n",
       "\twith 65230 stored elements in Compressed Sparse Row format>"
      ]
     },
     "execution_count": 13,
     "metadata": {},
     "output_type": "execute_result"
    }
   ],
   "source": [
    "from sklearn.feature_extraction.text import TfidfTransformer\n",
    "\n",
    "\"\"\"\n",
    "Parameters\n",
    "----------\n",
    "norm : 'l1', 'l2' or None, optional\n",
    "    Norm used to normalize term vectors. None for no normalization.\n",
    "\n",
    "use_idf : boolean, default=True\n",
    "    Enable inverse-document-frequency reweighting.\n",
    "\n",
    "smooth_idf : boolean, default=True\n",
    "    Smooth idf weights by adding one to document frequencies, as if an\n",
    "    extra document was seen containing every term in the collection\n",
    "    exactly once. Prevents zero divisions.\n",
    "\"\"\"\n",
    "\n",
    "tfidfer = TfidfTransformer()\n",
    "tfidfed_matrix = tfidfer.fit_transform(BoW_matrix)\n",
    "tfidfed_matrix"
   ]
  },
  {
   "cell_type": "code",
   "execution_count": 16,
   "metadata": {
    "collapsed": false
   },
   "outputs": [
    {
     "data": {
      "text/plain": [
       "<matplotlib.axes._subplots.AxesSubplot at 0x6d92d10>"
      ]
     },
     "execution_count": 16,
     "metadata": {},
     "output_type": "execute_result"
    },
    {
     "data": {
      "image/png": "[encoded data removed]",
      "text/plain": [
       "<matplotlib.figure.Figure at 0x6ba6190>"
      ]
     },
     "metadata": {},
     "output_type": "display_data"
    }
   ],
   "source": [
    "f, (ax1, ax2) = plt.subplots(1, 2, figsize=(16, 5))\n",
    "\n",
    "sns.distplot(BoW_matrix.data, ax=ax1)\n",
    "sns.distplot(tfidfed_matrix.data, ax=ax2)"
   ]
  },
  {
   "cell_type": "code",
   "execution_count": 31,
   "metadata": {
    "collapsed": false
   },
   "outputs": [
    {
     "data": {
      "text/plain": [
       "<6917x1048576 sparse matrix of type '<type 'numpy.float64'>'\n",
       "\twith 70368 stored elements in Compressed Sparse Row format>"
      ]
     },
     "execution_count": 31,
     "metadata": {},
     "output_type": "execute_result"
    }
   ],
   "source": [
    "from sklearn.feature_extraction.text import FeatureHasher\n",
    "\n",
    "\"\"\"\n",
    "Parameters\n",
    "----------\n",
    "n_features : integer, optional\n",
    "    The number of features (columns) in the output matrices. Small numbers\n",
    "    of features are likely to cause hash collisions, but large numbers\n",
    "    will cause larger coefficient dimensions in linear learners.\n",
    "input_type : string, optional, default \"dict\"\n",
    "    Either \"dict\" (the default) to accept dictionaries over\n",
    "    (feature_name, value); \"pair\" to accept pairs of (feature_name, value);\n",
    "    or \"string\" to accept single strings.\n",
    "    feature_name should be a string, while value should be a number.\n",
    "    In the case of \"string\", a value of 1 is implied.\n",
    "    The feature_name is hashed to find the appropriate column for the\n",
    "    feature. The value's sign might be flipped in the output (but see\n",
    "    non_negative, below).\n",
    "non_negative : boolean, optional, default False\n",
    "    Whether output matrices should contain non-negative values only;\n",
    "    effectively calls abs on the matrix prior to returning it.\n",
    "    When True, output values can be interpreted as frequencies.\n",
    "    When False, output values will have expected value zero.\n",
    "\"\"\"\n",
    "\n",
    "fh = FeatureHasher(input_type=\"string\")\n",
    "hashed = fh.fit_transform(map(lambda x: x.split(), df.text))\n",
    "hashed"
   ]
  },
  {
   "cell_type": "code",
   "execution_count": 32,
   "metadata": {
    "collapsed": false
   },
   "outputs": [
    {
     "data": {
      "text/plain": [
       "<matplotlib.axes._subplots.AxesSubplot at 0x7e11810>"
      ]
     },
     "execution_count": 32,
     "metadata": {},
     "output_type": "execute_result"
    },
    {
     "data": {
      "image/png": "[encoded data removed]",
      "text/plain": [
       "<matplotlib.figure.Figure at 0x7e111d0>"
      ]
     },
     "metadata": {},
     "output_type": "display_data"
    }
   ],
   "source": [
    "sns.distplot(hashed.data)"
   ]
  }
 ],
 "metadata": {
  "kernelspec": {
   "display_name": "Python 2",
   "language": "python",
   "name": "python2"
  },
  "language_info": {
   "codemirror_mode": {
    "name": "ipython",
    "version": 2
   },
   "file_extension": ".py",
   "mimetype": "text/x-python",
   "name": "python",
   "nbconvert_exporter": "python",
   "pygments_lexer": "ipython2",
   "version": "2.7.3"
  }
 },
 "nbformat": 4,
 "nbformat_minor": 2
}
